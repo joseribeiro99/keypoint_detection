{
 "cells": [
  {
   "cell_type": "code",
   "execution_count": null,
   "metadata": {},
   "outputs": [],
   "source": [
    "from roboflow import Roboflow\n",
    "rf = Roboflow(api_key=\"rrV7iJss7wKxCYyRfI1I\")\n",
    "project = rf.workspace(\"dl-v3wxj\").project(\"keypoint-je37t\")\n",
    "version = project.version(2)\n",
    "dataset = version.download(\"coco\")\n"
   ]
  }
 ],
 "metadata": {
  "kernelspec": {
   "display_name": "keypoint_detection",
   "language": "python",
   "name": "python3"
  },
  "language_info": {
   "codemirror_mode": {
    "name": "ipython",
    "version": 3
   },
   "file_extension": ".py",
   "mimetype": "text/x-python",
   "name": "python",
   "nbconvert_exporter": "python",
   "pygments_lexer": "ipython3",
   "version": "3.10.13"
  }
 },
 "nbformat": 4,
 "nbformat_minor": 2
}
