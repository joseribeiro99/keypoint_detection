{
 "cells": [
  {
   "cell_type": "code",
   "execution_count": 1,
   "metadata": {},
   "outputs": [],
   "source": [
    "import os\n",
    "from PIL import Image\n",
    "\n",
    "input_folder = 'dataset_S'\n",
    "output_folder = 'dataset_split'\n",
    "\n",
    "def split_and_transpose_folder(input_folder, output_folder):\n",
    "    # Create the output folder if it doesn't exist\n",
    "    if not os.path.exists(output_folder):\n",
    "        os.makedirs(output_folder)\n",
    "\n",
    "    # Iterate through all files in the input folder\n",
    "    for filename in os.listdir(input_folder):\n",
    "        # Check if the file is a PNG image\n",
    "        if filename.endswith(\".png\"):\n",
    "            # Construct the full path to the input image\n",
    "            input_image_path = os.path.join(input_folder, filename)\n",
    "\n",
    "            # Open the image\n",
    "            image = Image.open(input_image_path)\n",
    "\n",
    "            # Get the dimensions of the image\n",
    "            width, height = image.size\n",
    "\n",
    "            # Split the image in half\n",
    "            half_width = width // 2\n",
    "            left_half = image.crop((0, 0, half_width, height))\n",
    "            right_half = image.crop((half_width, 0, width, height))\n",
    "\n",
    "            # Transpose the right half of the image\n",
    "            transposed_right_half = right_half.transpose(Image.FLIP_LEFT_RIGHT)\n",
    "\n",
    "            # Construct the full path to the output images\n",
    "            left_output_path = os.path.join(output_folder, f\"{os.path.splitext(filename)[0]}_left.png\")\n",
    "            right_output_path = os.path.join(output_folder, f\"{os.path.splitext(filename)[0]}_right.png\")\n",
    "\n",
    "            # Save the left and right halves as separate images\n",
    "            left_half.save(left_output_path)\n",
    "            transposed_right_half.save(right_output_path)\n",
    "\n",
    "# Example usage:\n",
    "split_and_transpose_folder(input_folder, output_folder)\n",
    "\n",
    "\n"
   ]
  }
 ],
 "metadata": {
  "kernelspec": {
   "display_name": "keypoint_detection",
   "language": "python",
   "name": "python3"
  },
  "language_info": {
   "codemirror_mode": {
    "name": "ipython",
    "version": 3
   },
   "file_extension": ".py",
   "mimetype": "text/x-python",
   "name": "python",
   "nbconvert_exporter": "python",
   "pygments_lexer": "ipython3",
   "version": "3.10.13"
  }
 },
 "nbformat": 4,
 "nbformat_minor": 2
}
