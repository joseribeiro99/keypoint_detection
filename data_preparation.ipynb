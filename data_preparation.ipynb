{
 "cells": [
  {
   "cell_type": "code",
   "execution_count": 2,
   "metadata": {},
   "outputs": [],
   "source": [
    "# this is the dataset Bianca sent me\n",
    "# I called the fodler dataset_dirty\n",
    "# and created a folder called dataset where I will put the images and annotations\n",
    "# after I clean them up\n",
    "images_path = 'dataset_dirty/images/Alreadydone'\n",
    "annotations_path = 'dataset_dirty/annoations'"
   ]
  },
  {
   "cell_type": "code",
   "execution_count": 8,
   "metadata": {},
   "outputs": [
    {
     "name": "stdout",
     "output_type": "stream",
     "text": [
      "Matches: 165\n"
     ]
    }
   ],
   "source": [
    "# images and annotations have the same name but different extensions, we need to match them\n",
    "import os\n",
    "\n",
    "# Get list of images and annotations\n",
    "images = [f for f in os.listdir(images_path) if f.endswith('.png')]\n",
    "annotations = [f for f in os.listdir(annotations_path) if f.endswith('.json')]\n",
    "\n",
    "# Create dictionaries with base filenames as keys\n",
    "images_dict = {os.path.splitext(f)[0]: f for f in images}\n",
    "annotations_dict = {os.path.splitext(f)[0]: f for f in annotations}\n",
    "\n",
    "# Find matches\n",
    "matches = {k: (images_dict[k], annotations_dict[k]) for k in images_dict if k in annotations_dict}\n",
    "\n",
    "print('Matches:', len(matches))"
   ]
  },
  {
   "cell_type": "code",
   "execution_count": 14,
   "metadata": {},
   "outputs": [],
   "source": [
    "# now that they are matched, we are going to create the actual dataset folder\n",
    "# the dataset folder will be divided by train, valid and test (70%, 20%, 10%)\n",
    "# inside if each of those folders, there is a folder called images and another called annotations\n",
    "# we will copy the images and annotations to the corresponding folder\n",
    "import os\n",
    "import shutil\n",
    "from sklearn.model_selection import train_test_split\n",
    "\n",
    "# Define the directory for the dataset\n",
    "dataset_dir = 'dataset'\n",
    "\n",
    "# Create the main directories\n",
    "os.makedirs(os.path.join(dataset_dir, 'train', 'images'), exist_ok=True)\n",
    "os.makedirs(os.path.join(dataset_dir, 'train', 'annotations'), exist_ok=True)\n",
    "os.makedirs(os.path.join(dataset_dir, 'valid', 'images'), exist_ok=True)\n",
    "os.makedirs(os.path.join(dataset_dir, 'valid', 'annotations'), exist_ok=True)\n",
    "os.makedirs(os.path.join(dataset_dir, 'test', 'images'), exist_ok=True)\n",
    "os.makedirs(os.path.join(dataset_dir, 'test', 'annotations'), exist_ok=True)\n",
    "\n",
    "# Get a list of all matched keys\n",
    "matched_keys = list(matches.keys())\n",
    "\n",
    "# Split the keys into train, valid, and test\n",
    "train_keys, test_keys = train_test_split(matched_keys, test_size=0.1, random_state=42)\n",
    "train_keys, valid_keys = train_test_split(train_keys, test_size=0.22, random_state=42)  # 0.22 x 0.9 = 0.2\n",
    "\n",
    "# Function to copy files\n",
    "def copy_files(keys, split):\n",
    "    for key in keys:\n",
    "        image_file, annotation_file = matches[key]\n",
    "        shutil.copy(os.path.join(images_path, image_file), os.path.join(dataset_dir, split, 'images', image_file))\n",
    "        shutil.copy(os.path.join(annotations_path, annotation_file), os.path.join(dataset_dir, split, 'annotations', annotation_file))\n",
    "\n",
    "# Copy files\n",
    "copy_files(train_keys, 'train')\n",
    "copy_files(valid_keys, 'valid')\n",
    "copy_files(test_keys, 'test')"
   ]
  },
  {
   "cell_type": "code",
   "execution_count": 15,
   "metadata": {},
   "outputs": [],
   "source": [
    "# now we go inside the dataset folder to train/annotations, valid/annotations and test/annotations and we are going to change the json files\n",
    "# on the json files we remove 'imagePath' and 'imageData'\n",
    "\n",
    "import json\n",
    "import glob\n",
    "\n",
    "# Define the splits and the keys to remove\n",
    "splits = ['train', 'valid', 'test']\n",
    "keys_to_remove = ['imagePath', 'imageData']\n",
    "\n",
    "# Function to modify JSON files\n",
    "def modify_json_files(directory):\n",
    "    # Get a list of all JSON files in the directory\n",
    "    json_files = glob.glob(os.path.join(directory, '*.json'))\n",
    "\n",
    "    for json_file in json_files:\n",
    "        with open(json_file, 'r') as f:\n",
    "            data = json.load(f)\n",
    "\n",
    "        # Remove the keys\n",
    "        for key in keys_to_remove:\n",
    "            data.pop(key, None)\n",
    "\n",
    "        # Write the modified data back to the file\n",
    "        with open(json_file, 'w') as f:\n",
    "            json.dump(data, f, indent=4)\n",
    "\n",
    "# Modify JSON files in each split\n",
    "for split in splits:\n",
    "    modify_json_files(os.path.join(dataset_dir, split, 'annotations'))"
   ]
  },
  {
   "cell_type": "markdown",
   "metadata": {},
   "source": [
    "Now that the data is in the disired format, we can start developing our code to actually train the model\n",
    "You can check that on notebook.ipynb"
   ]
  }
 ],
 "metadata": {
  "kernelspec": {
   "display_name": "keypoint_detection",
   "language": "python",
   "name": "python3"
  },
  "language_info": {
   "codemirror_mode": {
    "name": "ipython",
    "version": 3
   },
   "file_extension": ".py",
   "mimetype": "text/x-python",
   "name": "python",
   "nbconvert_exporter": "python",
   "pygments_lexer": "ipython3",
   "version": "3.10.13"
  }
 },
 "nbformat": 4,
 "nbformat_minor": 2
}
